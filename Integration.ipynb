{
  "nbformat": 4,
  "nbformat_minor": 0,
  "metadata": {
    "colab": {
      "provenance": [],
      "authorship_tag": "ABX9TyMBDRceryNxvK1ytWWKMwMN",
      "include_colab_link": true
    },
    "kernelspec": {
      "name": "python3",
      "display_name": "Python 3"
    },
    "language_info": {
      "name": "python"
    }
  },
  "cells": [
    {
      "cell_type": "markdown",
      "metadata": {
        "id": "view-in-github",
        "colab_type": "text"
      },
      "source": [
        "<a href=\"https://colab.research.google.com/github/Trapti0603/Statistical-Tools-analysis/blob/main/Integration.ipynb\" target=\"_parent\"><img src=\"https://colab.research.google.com/assets/colab-badge.svg\" alt=\"Open In Colab\"/></a>"
      ]
    },
    {
      "cell_type": "code",
      "execution_count": null,
      "metadata": {
        "id": "OCSJX4yUVKyC"
      },
      "outputs": [],
      "source": [
        "import numpy as np\n",
        "import random\n",
        "import matplotlib.pyplot as plt\n",
        "import plotly.express as px\n",
        "from scipy.signal import find_peaks"
      ]
    },
    {
      "cell_type": "code",
      "source": [
        "x=np.random.uniform(-2*np.pi,2*np.pi,1000)\n",
        "x.sort()\n",
        "sum=0\n",
        "f_x= np.sin(x)\n",
        "peaks,_=find_peaks(f_x)\n",
        "print(x[peaks])\n",
        "mini=min(f_x)\n",
        "high=max(f_x)\n",
        "inside=[]\n",
        "outside=[]\n",
        "for _ in range(100000):\n",
        "    x=np.random.uniform(-2*np.pi,2*np.pi)\n",
        "    y=np.random.uniform(mini,high)\n",
        "    f_x=np.sin(x)\n",
        "    if 0<y<=f_x or f_x<=y<0:\n",
        "        inside.append((x,y))\n",
        "    else:\n",
        "        outside.append((x,y))\n",
        "x_in,y_in=list(zip(*inside))\n",
        "x_out,y_out=list(zip(*outside))\n",
        "sum+=np.sum(inside)/len(outside)\n",
        "print(\"Area Under The Curve : \", sum)\n",
        "fig=px.scatter(x=x_in,y=y_in,color=y_in)\n",
        "fig.update_traces(marker=dict(size=2))"
      ],
      "metadata": {
        "id": "ZcNJTtnGVVWi"
      },
      "execution_count": null,
      "outputs": []
    },
    {
      "cell_type": "code",
      "source": [
        "import pandas as pd\n",
        "# x=np.linspace(-1*np.pi,1*np.pi,1000)\n",
        "# f=np.sin(x)\n",
        "# g=np.cos(x)\n",
        "# h=f-g\n",
        "# xi=[]\n",
        "# sign_change=np.where(np.diff(np.sign(h)))[0]\n",
        "# xi=((x[sign_change]+x[sign_change +1])/2).tolist()\n",
        "# print(type(xi))\n",
        "\n",
        "# More vivid graph"
      ],
      "metadata": {
        "id": "As-8M7UmVVry"
      },
      "execution_count": null,
      "outputs": []
    },
    {
      "cell_type": "code",
      "source": [
        "import pandas as pd\n",
        "df_c = pd.DataFrame({'x':( x_in), 'y': (y_in), 'group': 'c'})\n",
        "df_s = pd.DataFrame({'x': (x_out), 'y': (y_out), 'group': 's'})\n",
        "df = pd.concat([df_c, df_s], ignore_index=True)\n",
        "fig=px.scatter(df,x='x',y='y',color='group',opacity=0.8)\n",
        "#fig=px.scatter(x=x_out,y=y_out,color=y_out)\n",
        "fig.update_traces(marker=dict(size=2))\n",
        "fig.show()\n",
        "print(\"blue is the part of area enclosed by x axis and curve whereas red depicts the rectangle considered\")"
      ],
      "metadata": {
        "id": "DkvN4fBnVWTG"
      },
      "execution_count": null,
      "outputs": []
    },
    {
      "cell_type": "code",
      "source": [],
      "metadata": {
        "id": "aQux85oUypM7"
      },
      "execution_count": null,
      "outputs": []
    },
    {
      "cell_type": "code",
      "source": [
        "# from sympy import symbols, sin, cos ,tan, log\n",
        "# # x=np.random.uniform()\n",
        "# # y=np.random.uniform()\n",
        "# x, y = symbols('x y')\n",
        "# f_xy=x*sin(y) + y*cos(x)+x**2\n",
        "# f_new=0\n",
        "# terms = f_xy.args\n",
        "# terms"
      ],
      "metadata": {
        "id": "pJwYQWJuVWpf"
      },
      "execution_count": null,
      "outputs": []
    },
    {
      "cell_type": "code",
      "source": [
        "import numpy as np\n",
        "f_xy=lambda x,y: y*np.sin(x)+ x*np.cos(y)\n",
        "area=0\n",
        "def calc(f_x):\n",
        "    f_xi=0\n",
        "    a=-20\n",
        "    b=20\n",
        "    N=10000\n",
        "    global x_plot\n",
        "    x_plot=np.random.uniform(a,b,N)\n",
        "    f_xi=((b-a)/N)*np.sum(f_x(x_plot))\n",
        "\n",
        "    return f_xi\n",
        "ai=-20\n",
        "bi=30\n",
        "N=10000\n",
        "y_plot=np.random.uniform(ai,bi,N)\n",
        "z_plot=y_plot*calc(lambda x:np.sin(x))+ calc(lambda x:x)*np.cos(y_plot)\n",
        "area=np.sum(((bi-ai)/N)*y_plot)\n",
        "fig=px.scatter_3d(x=x_plot,y=y_plot,z=z_plot,color=y_plot)\n",
        "fig.update_traces(marker=dict(size=2))\n",
        "fig.show()"
      ],
      "metadata": {
        "id": "yfBTGJvrVXB_"
      },
      "execution_count": null,
      "outputs": []
    },
    {
      "cell_type": "code",
      "source": [
        "import numpy as np\n",
        "import random\n",
        "import matplotlib.pyplot as plt\n",
        "\n",
        "\"\"\"        1 kg milk =  1 unit (price*1)\n",
        "           1 egg    =1/2 unit (price *2)\n",
        "           1 kg sugar=10  units (price /10)\n",
        "           1 pack bread = 6 units(price/6)\n",
        "           1 kg almonds = 10 units (price/10)\n",
        "\"\"\"\n",
        "price=0\n",
        "milk= np.random.uniform(18,20,1000)\n",
        "egg=random.choices([4,5,6],[0.2,0.5,0.3],k=1000)\n",
        "sugar=np.random.uniform(20,23,1000)\n",
        "bread=np.random.normal(loc=25, scale=1, size=1000)\n",
        "almonds=random.choices([50,70],[0.7,0.3],k=1000)\n",
        "price = ( milk ) + ( egg ) + ( sugar*0.1 ) +( bread /6 ) + ( almonds)\n",
        "print(\"minimum profit:\",np.mean(price))\n",
        "plt.boxplot(price, showmeans=True,meanline=True,meanprops=dict(color='green', linewidth=2))\n",
        "plt.title('Boxplot for minimum profit')\n",
        "plt.ylabel('Values')\n",
        "plt.grid(True)\n",
        "plt.show()"
      ],
      "metadata": {
        "id": "ndzMn1OEZ5SX"
      },
      "execution_count": null,
      "outputs": []
    },
    {
      "cell_type": "code",
      "source": [
        "from scipy.signal import find_peaks\n",
        "x=np.random.uniform(-2*np.pi,2*np.pi,1000)\n",
        "x.sort()\n",
        "f_x=np.sin(5 * x)* np.cos(x / 2) + 0.3 * x\n",
        "inside=[]\n",
        "outside=[]\n",
        "sum=0\n",
        "peaks, _ = find_peaks(f_x)\n",
        "troughs, _ = find_peaks(-f_x)\n",
        "#print(np.sign(f_x))\n",
        "sign_change=np.where(np.diff(np.sign(f_x)))[0]\n",
        "print(x[sign_change])\n",
        "xi=[-2*np.pi,2*np.pi]\n",
        "xi[1:1]=(x[sign_change]+x[sign_change +1])/2\n",
        "xi[1:1]=x[peaks]\n",
        "xi[1:1]=x[troughs]\n",
        "xi.sort()\n",
        "leng=len(xi)\n",
        "for i in range(leng-1):\n",
        "        x=np.random.uniform(xi[i],xi[i+1],100) # taking an element for checking the sign\n",
        "        f_x=np.sin(5 * x) * np.cos(x / 2) + 0.3 * x # checking the sign\n",
        "        if  f_x[0] < 0:\n",
        "            l=min(f_x)\n",
        "            u=0\n",
        "        else:\n",
        "            l=0\n",
        "            u=max(f_x)\n",
        "        for _ in range(10000):\n",
        "\n",
        "            x_e=np.random.uniform(xi[i],xi[i+1])\n",
        "            y_e=np.random.uniform(l,u)\n",
        "\n",
        "            f_x=np.sin(5 * x_e) * np.cos(x_e / 2) + 0.3 * x_e\n",
        "            if 0<y_e<=f_x or f_x<=y_e<0:\n",
        "                inside.append((x_e,y_e))\n",
        "            else:\n",
        "                outside.append((x_e,y_e))\n",
        "\n",
        "x_in,y_in=list(zip(*inside))\n",
        "x_out,y_out=list(zip(*outside))\n",
        "sum+=np.sum(inside)/len(outside)\n",
        "print(\"area under the curve:\",sum)\n",
        "fig=px.scatter(x=x_in,y=y_in,color=y_in)\n",
        "fig.update_traces(marker=dict(size=2))\n",
        "fig.show()\n"
      ],
      "metadata": {
        "id": "CpZRHbqRVV_l"
      },
      "execution_count": null,
      "outputs": []
    }
  ]
}