{
  "cells": [
    {
      "cell_type": "markdown",
      "metadata": {
        "id": "view-in-github",
        "colab_type": "text"
      },
      "source": [
        "<a href=\"https://colab.research.google.com/github/Trapti0603/Statistical-Tools-analysis/blob/main/Statistical_tools_1.ipynb\" target=\"_parent\"><img src=\"https://colab.research.google.com/assets/colab-badge.svg\" alt=\"Open In Colab\"/></a>"
      ]
    },
    {
      "cell_type": "code",
      "execution_count": null,
      "metadata": {
        "collapsed": true,
        "id": "rwd59A580tA7"
      },
      "outputs": [],
      "source": [
        "import random\n",
        "import math\n",
        "import matplotlib.pyplot as plt\n",
        "num_samples=10000\n",
        "inside_x=[]\n",
        "inside_y=[]\n",
        "outside_x=[]\n",
        "outside_y=[]\n",
        "inside_circle=0\n",
        "pi_values=[]\n",
        "for i in range(1,num_samples+1):\n",
        "  x=random.uniform(0,1)\n",
        "  y=random.uniform(0,1)\n",
        "\n",
        "  if x**2+y**2<=1:\n",
        "    inside_x.append(x)\n",
        "    inside_y.append(y)\n",
        "    inside_circle+=1\n",
        "  else:\n",
        "    outside_x.append(x)\n",
        "    outside_y.append(y)\n",
        "  if(i% 100==0):\n",
        "    pi_values.append(4*inside_circle/i)\n",
        "\n",
        "# Final estimate\n",
        "final_pi=4*inside_circle/num_samples\n",
        "print(f\"Final Estimated value of pi: {final_pi}\")\n",
        "\n",
        "#   Plot 1 : Monte carlo scatter plot\n",
        "plt.figure(figsize=(12,5))\n",
        "plt.subplot(1,2,1)\n",
        "plt.scatter(inside_x,inside_y,color='blue',s=1,label='Inside Circle')\n",
        "plt.scatter(outside_x,outside_y,color='red',s=1,label='Outside Circle')\n",
        "plt.title(\"Monte carlo Simulation for pi\")\n",
        "plt.xlabel('x')\n",
        "plt.ylabel('y')\n",
        "plt.axis('equal')\n",
        "plt.legend()\n",
        "\n",
        "# Plot 2 Convergence of pi estimate\n",
        "plt.subplot(1,2,2)\n",
        "steps=list(range(100,num_samples+1,100))\n",
        "plt.plot(steps,pi_values,label='Estimated pi',color='pink')\n",
        "plt.axhline(y=math.pi, color='green',linestyle='--',label='Actual pi~ 3.14159')\n",
        "plt.xlabel('Number of Samples')\n",
        "plt.ylabel('Estimated pi')\n",
        "plt.title('Convergence of Estimated pi')\n",
        "plt.legend()\n",
        "plt.grid(True)\n",
        "\n",
        "plt.tight_layout()\n",
        "plt.show()\n"
      ]
    },
    {
      "cell_type": "code",
      "execution_count": null,
      "metadata": {
        "collapsed": true,
        "id": "8X68tOXQgmjX"
      },
      "outputs": [],
      "source": [
        "import numpy as np\n",
        "import matplotlib.pyplot as plt\n",
        "from mpl_toolkits.mplot3d import Axes3D\n",
        "# number of random points\n",
        "N=10000\n",
        "# generate random points in cube  [-1,1] for x,y,z\n",
        "x=np.random.uniform(-1,1,N)\n",
        "y=np.random.uniform(-1,1,N)\n",
        "z=np.random.uniform(-1,1,N)\n",
        "# condition of being inside the unit sphere\n",
        "inside_sphere=x*x+y*y+z*z<=1\n",
        "# number of points inside the sphere\n",
        "num_inside_sphere=np.sum(inside_sphere)\n",
        "# Estimate pi\n",
        "pi_estimate=6*(num_inside_sphere/N)\n",
        "print(f\"Estimated value of pi: {pi_estimate}\")\n",
        "# plotting\n",
        "fig=plt.figure(figsize=(10,6))\n",
        "ax=fig.add_subplot(111,projection='3d')\n",
        "ax.scatter(x[inside_sphere],y[inside_sphere],z[inside_sphere],color='blue',s=1,label='Inside Sphere')\n",
        "ax.scatter(x[~inside_sphere],y[~inside_sphere],z[~inside_sphere],color='red',s=1,label='Outside Sphere')\n",
        "ax.set_xlabel('x')\n",
        "ax.set_ylabel('y')\n",
        "ax.set_zlabel('z')\n",
        "ax.set_title('Monte Carlo Simulation of pi')\n",
        "ax.legend()\n",
        "plt.show()"
      ]
    },
    {
      "cell_type": "code",
      "execution_count": null,
      "metadata": {
        "collapsed": true,
        "id": "njRRYZFj9r64"
      },
      "outputs": [],
      "source": [
        "# Histogram\n",
        "\n",
        "import matplotlib.pyplot as plt\n",
        "import numpy as np\n",
        "# Normal distribution data\n",
        "data= np.random.normal(loc=0,scale=1,size=500)\n",
        "\n",
        "plt.figure(figsize=(6,4))\n",
        "plt.hist(data,bins=20,edgecolor='black',alpha=0.7)\n",
        "plt.xlabel('Value')\n",
        "plt.ylabel('Frequency')\n",
        "plt.title('Histogram of Normal Distribution')\n",
        "plt.xticks(np.arange(-4,5,1))\n",
        "plt.grid(True)\n",
        "plt.show()"
      ]
    },
    {
      "cell_type": "code",
      "execution_count": null,
      "metadata": {
        "collapsed": true,
        "id": "b8OQTf5orHW2"
      },
      "outputs": [],
      "source": [
        "import matplotlib.pyplot as plt\n",
        "import numpy as np\n",
        "import seaborn as sns\n",
        "# Normal distribution data\n",
        "data= np.random.normal(loc=0,scale=1,size=500)\n",
        "\n",
        "plt.figure(figsize=(6,4))\n",
        "sns.histplot(data, kde=True, edgecolor='black', alpha=0.7) # Use seaborn.histplot with kde\n",
        "plt.xlabel('Value')\n",
        "plt.ylabel('Frequency')\n",
        "plt.title('Histogram of Normal Distribution with KDE')\n",
        "plt.xticks(np.arange(-4,5,1))\n",
        "plt.grid(True)\n",
        "plt.show()"
      ]
    },
    {
      "cell_type": "code",
      "execution_count": null,
      "metadata": {
        "collapsed": true,
        "id": "7jAEZlTLqfqr"
      },
      "outputs": [],
      "source": [
        "import matplotlib.pyplot as plt\n",
        "import numpy as np\n",
        "uniform_data=np.random.uniform(low=0,high=1,size=1000)\n",
        "\n",
        "plt.figure(figsize=(10,5))\n",
        "plt.hist(uniform_data,bins=20,edgecolor='black',alpha=0.7,align=\"mid\")\n",
        "plt.xlabel('Value')\n",
        "plt.ylabel('Frequency')\n",
        "plt.title('Standard Uniform distribution U(0,1)')\n",
        "bins=np.arange(0,1.05,0.05)\n",
        "plt.xticks(bins)\n",
        "plt.grid(True)\n",
        "plt.show()\n"
      ]
    },
    {
      "cell_type": "code",
      "execution_count": null,
      "metadata": {
        "collapsed": true,
        "id": "DcMHd4g8tMvQ"
      },
      "outputs": [],
      "source": [
        "import numpy as np\n",
        "import matplotlib.pyplot as plt\n",
        "# define func to integrate\n",
        "def f(x):\n",
        "  return (x*x)\n",
        "\n",
        "# defining limits\n",
        "a=0\n",
        "b=1\n",
        "# number of random samples\n",
        "N=10000\n",
        "# generate random samples\n",
        "x_rand=np.random.uniform(a,b,N)\n",
        "# evaluate func value at sampled point\n",
        "fx_rand=f(x_rand)\n",
        "# Monte carlo simulation estimation\n",
        "integral_estimate=(b-a)*np.mean(fx_rand)\n",
        "print(f\"Estimated value of the integral: {integral_estimate}\")\n",
        "\n",
        "# Plotting\n",
        "plt.figure(figsize=(6,5))\n",
        "plt.scatter(x_rand,fx_rand,alpha=0.1,color='orange',s=1,label='Random Samples')\n",
        "\n",
        "plt.xlabel('f(x)')\n",
        "plt.ylabel('Frequency')\n",
        "plt.title('Monte Carlo Simulation of Integral')\n",
        "plt.grid(True)\n",
        "plt.show()\n"
      ]
    },
    {
      "cell_type": "code",
      "execution_count": null,
      "metadata": {
        "collapsed": true,
        "id": "1JfMyuZPeaJj"
      },
      "outputs": [],
      "source": [
        "import numpy as np\n",
        "import matplotlib.pyplot as plt\n",
        "\n",
        "# Number of simulations\n",
        "n_simulations = 10000\n",
        "\n",
        "# Containers for storing results\n",
        "costs = []\n",
        "\n",
        "# Price distributions\n",
        "for _ in range(n_simulations):\n",
        "    # Milk: 2 cups → 0.5 liters, Uniform(18, 20)\n",
        "    milk_price = np.random.uniform(18, 20) * 0.5\n",
        "\n",
        "    # Eggs: 2 eggs → Discrete distribution\n",
        "    egg_price = np.random.choice([2, 2.5, 3], p=[0.2, 0.5, 0.3]) * 2\n",
        "\n",
        "    # Sugar: 100g → 0.1 kg, Uniform(20, 23)\n",
        "    sugar_price = np.random.uniform(20, 23) * 0.1\n",
        "\n",
        "    # Bread: 2 slices out of 12 slices ~ Normal(25, 1)\n",
        "    bread_price_per_12 = np.random.normal(25, 1)\n",
        "    bread_price = (2 / 12) * bread_price_per_12\n",
        "\n",
        "    # Almonds: 100g → 0.1 kg, Discrete distribution\n",
        "    almond_price = np.random.choice([500, 700], p=[0.7, 0.3]) * 0.1\n",
        "\n",
        "    # Total cost of ingredients\n",
        "    total_cost = milk_price + egg_price + sugar_price + bread_price + almond_price\n",
        "    costs.append(total_cost)\n",
        "\n",
        "# Convert to numpy array\n",
        "costs = np.array(costs)\n",
        "\n",
        "# Results\n",
        "print(f\"Expected cost of pudding: Rs {np.mean(costs):.2f}\")\n",
        "print(f\"Minimum cost: Rs {np.min(costs):.2f}\")\n",
        "print(f\"Maximum cost: Rs {np.max(costs):.2f}\")\n",
        "print(f\"Standard Deviation: Rs {np.std(costs):.2f}\")\n",
        "\n",
        "# Plotting the histogram\n",
        "plt.hist(costs, bins=50, color='skyblue', edgecolor='black')\n",
        "plt.title(\"Monte Carlo Simulation: Cost of Pudding\")\n",
        "plt.xlabel(\"Cost (Rs)\")\n",
        "plt.ylabel(\"Frequency\")\n",
        "plt.grid(True)\n",
        "plt.show()"
      ]
    },
    {
      "cell_type": "code",
      "execution_count": null,
      "metadata": {
        "collapsed": true,
        "id": "JL3UTIxwiAQW"
      },
      "outputs": [],
      "source": [
        "import numpy as np\n",
        "import matplotlib.pyplot as plt\n",
        "from scipy.stats import norm\n",
        "\n",
        "# Power-law parameters\n",
        "S0 = 30  # mJy\n",
        "S = np.linspace(1, 1000, 1000)\n",
        "\n",
        "# Power-law indices\n",
        "eta_high = 2.07\n",
        "eta_low = 1.97\n",
        "\n",
        "# Compute dN/dS for both regions\n",
        "dN_dS_high = (S[S > S0] / S0)**(eta_high)\n",
        "dN_dS_low = (S[S <= S0] / S0)**(eta_low)\n",
        "\n",
        "# Combine\n",
        "dN_dS = np.concatenate([dN_dS_low, dN_dS_high])\n",
        "S_combined = np.concatenate([S[S <= S0], S[S > S0]])\n",
        "\n",
        "# Plot differential number-flux relation\n",
        "plt.figure(figsize=(8, 5))\n",
        "plt.loglog(S_combined, dN_dS, label=r'$\\frac{dN}{dS} \\propto \\left(\\frac{S}{S_0}\\right)^{-\\eta}$')\n",
        "plt.axvline(S0, color='gray', linestyle='--', label='S₀ = 30 mJy')\n",
        "plt.xlabel(\"Flux Density S (mJy)\")\n",
        "plt.ylabel(\"dN/dS (normalized)\")\n",
        "plt.title(\"Power-law Differential Number-Flux Density\")\n",
        "plt.legend()\n",
        "plt.grid(True, which=\"both\", ls=\"--\")\n",
        "plt.show()\n",
        "\n",
        "# Redshift distribution parameters\n",
        "mu = 1.27  # Mean redshift\n",
        "sigma = 0.95  # Standard deviation\n",
        "z = np.linspace(0, 5, 500)\n",
        "redshift_distribution = norm.pdf(z, mu, sigma)\n",
        "\n",
        "# Plot redshift distribution\n",
        "plt.figure(figsize=(8, 5))\n",
        "plt.plot(z, redshift_distribution, label=\"Gaussian redshift distribution\", color='purple')\n",
        "plt.xlabel(\"Redshift z\")\n",
        "plt.ylabel(\"Probability Density\")\n",
        "plt.title(\"Redshift Distribution of CLASS Sample\")\n",
        "plt.grid(True)\n",
        "plt.legend()\n",
        "plt.show()"
      ]
    },
    {
      "cell_type": "code",
      "execution_count": null,
      "metadata": {
        "collapsed": true,
        "id": "vS_EPWJ9u58X"
      },
      "outputs": [],
      "source": [
        "import numpy as np\n",
        "import matplotlib.pyplot as plt\n",
        "from scipy.optimize import minimize\n",
        "\n",
        "# --- Given data\n",
        "z = np.array([0.07, 0.09, 0.12, 0.17, 0.1791, 0.1993, 0.2, 0.27, 0.28, 0.35, 0.3519, 0.3802, 0.4])\n",
        "Hz = np.array([69, 69, 68.6, 83, 75, 75, 72.9, 77, 88.8, 82.7, 83, 83, 95])\n",
        "sigma_H = np.array([19.6, 12, 26.2, 8, 5, 5, 29.6, 14, 36.6, 7.8, 14, 13.5, 17])\n",
        "H0 = 67.8\n",
        "\n",
        "def H_theoretical(z, omega_m, omega_lambda):\n",
        "    return H0 * np.sqrt(omega_m * (1 + z)**3 + omega_lambda)\n",
        "\n",
        "def chi_square(params):\n",
        "    omega_m, omega_lambda = params\n",
        "    model = H_theoretical(z, omega_m, omega_lambda)\n",
        "    return np.sum(((Hz - model)**2) / sigma_H**2)\n",
        "\n",
        "# Best-fit values\n",
        "res = minimize(chi_square, [0.3, 0.7], bounds=[(0,1), (0,1)])\n",
        "omega_m_best, omega_lambda_best = res.x\n",
        "chi2_min = res.fun\n",
        "\n",
        "# --- Finer grid for smoother ellipses\n",
        "omega_m_vals = np.linspace(0.1, 0.6, 300)\n",
        "omega_lambda_vals = np.linspace(0.1, 1.0, 300)\n",
        "OM, OL = np.meshgrid(omega_m_vals, omega_lambda_vals)\n",
        "chi2_vals = np.array([chi_square([m, l]) for m, l in zip(OM.ravel(), OL.ravel())]).reshape(OM.shape)\n",
        "\n",
        "# Confidence levels for 2 params\n",
        "levels = [chi2_min + 2.30, chi2_min + 6.17, chi2_min + 11.8]\n",
        "\n",
        "# --- Plot elliptical contours\n",
        "plt.figure(figsize=(6,5))\n",
        "contours = plt.contour(OM, OL, chi2_vals, levels=levels, colors=['black', 'red', 'green'])\n",
        "plt.clabel(contours, fmt={level: label for level, label in zip(levels, ['1σ', '2σ', '3σ'])})\n",
        "plt.scatter(omega_m_best, omega_lambda_best, color='blue', label='Best Fit')\n",
        "plt.xlabel(r'$\\Omega_m$')\n",
        "plt.ylabel(r'$\\Omega_\\Lambda$')\n",
        "plt.title(r'$\\chi^2$ Contour Plot with Confidence Ellipses')\n",
        "plt.grid(True)\n",
        "plt.legend()\n",
        "plt.show()\n",
        "\n",
        "chi2_grid = np.array([chi_square([m, l]) for m, l in zip(OM.ravel(), OL.ravel())]).reshape(OM.shape)\n",
        "fig = plt.figure(figsize=(6,5))\n",
        "ax = fig.add_subplot(111, projection='3d')\n",
        "surf = ax.plot_surface(OM, OL, chi2_grid, cmap='viridis', edgecolor='k', alpha=0.9)\n",
        "\n",
        "ax.set_xlabel(r'$\\Omega_m$')\n",
        "ax.set_ylabel(r'$\\Omega_\\Lambda$')\n",
        "ax.set_zlabel(r'$\\chi^2$')\n",
        "ax.set_title('3D Surface Plot of $\\chi^2(\\Omega_m, \\Omega_\\Lambda)$')\n",
        "plt.tight_layout()\n",
        "plt.show()\n"
      ]
    },
    {
      "cell_type": "code",
      "execution_count": null,
      "metadata": {
        "collapsed": true,
        "id": "XmWxLUnNxU9W"
      },
      "outputs": [],
      "source": [
        "import numpy as np\n",
        "import matplotlib.pyplot as plt\n",
        "\n",
        "# Data\n",
        "z = np.array([0.07, 0.09, 0.12, 0.17, 0.1791, 0.1993, 0.2, 0.27, 0.28, 0.35, 0.3519, 0.3802, 0.4])\n",
        "Hz = np.array([69, 69, 68.6, 83, 75, 75, 72.9, 77, 88.8, 82.7, 83, 83, 95])\n",
        "sigma_H = np.array([19.6, 12, 26.2, 8, 5, 5, 29.6, 14, 36.6, 7.8, 14, 13.5, 17])\n",
        "H0 = 67.8\n",
        "\n",
        "# Theoretical H(z) for a flat universe\n",
        "def H_theoretical(z, omega_m):\n",
        "    omega_lambda = 1 - omega_m\n",
        "    return H0 * np.sqrt(omega_m * (1 + z)**3 + omega_lambda)\n",
        "\n",
        "# Chi-square function\n",
        "def chi_square(omega_m):\n",
        "    model = H_theoretical(z, omega_m)\n",
        "    return np.sum(((Hz - model) / sigma_H)**2)\n",
        "\n",
        "# Calculate chi-square for a range of Omega_m values\n",
        "omega_m_vals = np.linspace(0.1, 0.9, 100)  # Reduce number of points for simplicity\n",
        "chi2_vals = np.array([chi_square(om) for om in omega_m_vals])\n",
        "\n",
        "# Find best-fit Omega_m\n",
        "min_index = np.argmin(chi2_vals)\n",
        "best_fit_omega_m = omega_m_vals[min_index]\n",
        "min_chi2 = chi2_vals[min_index]\n",
        "\n",
        "# Plot\n",
        "plt.figure(figsize=(8,5))\n",
        "plt.plot(omega_m_vals, chi2_vals, label=r'$\\chi^2(\\Omega_m)$', color='navy')\n",
        "plt.axvline(best_fit_omega_m, linestyle='--', color='red', label=f'Best fit: Ωm = {best_fit_omega_m:.3f}')\n",
        "plt.xlabel(r'$\\Omega_m$')\n",
        "plt.ylabel(r'$\\chi^2$')\n",
        "plt.title(r'Chi-square vs $\\Omega_m$ (Flat Universe)')\n",
        "plt.grid(True)\n",
        "plt.legend()\n",
        "plt.show()"
      ]
    },
    {
      "cell_type": "code",
      "execution_count": null,
      "metadata": {
        "id": "16X47c5-hWGv"
      },
      "outputs": [],
      "source": [
        "import numpy as np\n",
        "import pandas as pd\n",
        "import plotly.figure_factory as ff\n",
        "import plotly.express as px\n",
        "from ipywidgets import VBox, HBox, Output, Button, IntText, Label, FloatText\n",
        "\n",
        "import matplotlib.pyplot as plt\n",
        "from matplotlib.transforms import Affine2D\n",
        "from matplotlib.collections import PathCollection\n",
        "import matplotlib.animation as animation"
      ]
    },
    {
      "cell_type": "code",
      "execution_count": null,
      "metadata": {
        "collapsed": true,
        "id": "nnU4pMDyhqzI"
      },
      "outputs": [],
      "source": [
        "def targetdist(x):\n",
        "        probX = np.exp(-x**2) * (2 + np.sin(x*5) + np.sin(x*2))\n",
        "        return probX\n",
        "x = np.arange(-3,3, 0.01)\n",
        "y = targetdist(x)\n",
        "px.line(x = x, y= y)"
      ]
    },
    {
      "cell_type": "code",
      "execution_count": null,
      "metadata": {
        "id": "8FgBNcQIhw1w"
      },
      "outputs": [],
      "source": [
        "import numpy as np\n",
        "nchain=[]\n",
        "achain=[]\n",
        "posteriorchain=[]\n",
        "a0=-3                                # initial value\n",
        "s=1000                                # no of steps\n",
        "burnout_time= 0                     # Burnout_time\n",
        "t=0\n",
        "\n",
        "for i in range(1,s):\n",
        "  anew= a0+np.random.normal(0,1)\n",
        "  alpha = targetdist(anew) / targetdist(a0)\n",
        "  u=np.random.uniform(0,1)\n",
        "\n",
        "  if alpha>=u:\n",
        "    #print(\"value accepted\")\n",
        "    t=t+1\n",
        "    if t>=burnout_time:\n",
        "      nchain.append(t)\n",
        "      achain.append(anew)\n",
        "      posteriorchain.append(targetdist(anew))\n",
        "    a0=anew\n",
        "  else:\n",
        "    a0=a0\n",
        "\n",
        "  #print(\"...............................\")\n",
        "print(achain)\n",
        "LENGTH= len(achain)\n",
        "print(LENGTH)"
      ]
    },
    {
      "cell_type": "code",
      "execution_count": null,
      "metadata": {
        "collapsed": true,
        "id": "OAryuo27h3Iv"
      },
      "outputs": [],
      "source": [
        "plt.plot(nchain,achain)"
      ]
    },
    {
      "cell_type": "code",
      "execution_count": null,
      "metadata": {
        "collapsed": true,
        "id": "GbXC3JCUh81Q"
      },
      "outputs": [],
      "source": [
        "def targetdist(x):\n",
        "        probX = np.exp(-x**2) * (2 + np.sin(x*5) + np.sin(x*2))\n",
        "        return probX\n",
        "x = np.arange(-5,5, 0.01)\n",
        "y = targetdist(x)\n",
        "plt.plot(x,y)\n",
        "\n",
        "for i in range(0,len(achain)):\n",
        "  plt.scatter(achain[i],posteriorchain[i],color='red')\n",
        "\n",
        "plt.xlim(-5,5)"
      ]
    },
    {
      "cell_type": "code",
      "execution_count": null,
      "metadata": {
        "id": "hjgbnUMuiEB_"
      },
      "outputs": [],
      "source": [
        "plt.hist(achain, bins=40, density=True, alpha=0.6, color='b')\n",
        "plt.xlabel('x',fontsize=18)"
      ]
    },
    {
      "cell_type": "code",
      "execution_count": null,
      "metadata": {
        "id": "D_PyLmq6ik1x"
      },
      "outputs": [],
      "source": [
        "import numpy as np\n",
        "from scipy.stats import norm\n",
        "import matplotlib.pyplot as plt\n",
        "\n",
        "# Generate some data for this\n",
        "# demonstration.\n",
        "data = achain\n",
        "\n",
        "# Fit a normal distribution to\n",
        "# the data:\n",
        "# mean and standard deviation\n",
        "#mu, std = norm.fit(data)\n",
        "\n",
        "am=np.mean(data)\n",
        "sm=np.std(data)\n",
        "\n",
        "# Plot the histogram.\n",
        "plt.hist(data, bins=50, density=True, alpha=0.6, color='b')\n",
        "\n",
        "# Plot the PDF.\n",
        "xmin, xmax = plt.xlim()\n",
        "x = np.linspace(xmin, xmax, 100)\n",
        "p = norm.pdf(x, am, sm)\n",
        "\n",
        "plt.plot(x, p, 'k', linewidth=2)\n",
        "title = \"Fit Values:  {:.2f} $\\pm$ {:.2f}\".format(am, sm)\n",
        "plt.title(title)\n",
        "\n",
        "plt.show()"
      ]
    },
    {
      "cell_type": "code",
      "execution_count": null,
      "metadata": {
        "id": "7RyjiUJfiy4o"
      },
      "outputs": [],
      "source": [
        "sl,m,sm= np.percentile(achain,[16, 50, 84],axis=0)\n",
        "mean=m\n",
        "neg_error= m-sl\n",
        "pos_error= sm-m\n",
        "\n",
        "print(\"MCMC OUTCOME:= {} + {} -{}\".format(mean,pos_error,neg_error))\n"
      ]
    },
    {
      "cell_type": "code",
      "execution_count": null,
      "metadata": {
        "id": "BnZFuCbEi1K1"
      },
      "outputs": [],
      "source": [
        "!python -m pip install -U pip\n",
        "!pip install -U setuptools setuptools_scm pep517\n",
        "!pip install -U corner"
      ]
    },
    {
      "cell_type": "code",
      "execution_count": null,
      "metadata": {
        "id": "sXA6uFG2jK1f",
        "collapsed": true
      },
      "outputs": [],
      "source": [
        "import numpy as np\n",
        "import corner\n",
        "cc=np.array([achain])\n",
        "bb=cc.transpose()\n",
        "fig = corner.corner(bb,bins=50,labels=[\"$x$\"],color=\"red\",quantiles=[0.16, 0.5, 0.84],show_titles=True,divergences=True)\n",
        "\n",
        "plt.savefig(\"toy_model1.png\",dpi=800)\n",
        "plt.show()"
      ]
    },
    {
      "cell_type": "code",
      "execution_count": null,
      "metadata": {
        "id": "cyzEwZOGkG2E"
      },
      "outputs": [],
      "source": [
        "from google.colab import files\n",
        "files.download(\"toy_model1.png\")"
      ]
    },
    {
      "cell_type": "code",
      "execution_count": null,
      "metadata": {
        "id": "M_hah-HtlX6_"
      },
      "outputs": [],
      "source": [
        "import numpy as np\n",
        "\n",
        "walker= 10\n",
        "nchain_list = []\n",
        "achain_list = []\n",
        "posteriorchain_list=[]\n",
        "\n",
        "\n",
        "\n",
        "\n",
        "for i in range(0,walker):\n",
        "  t=0\n",
        "  a0=np.random.uniform(-2,2)\n",
        "  steps=2000\n",
        "  burnout_time= 500\n",
        "  nchain=[]\n",
        "  achain=[]\n",
        "  posteriorchain=[]\n",
        "\n",
        "\n",
        "  for j in range(0,steps):\n",
        "    anew= a0+np.random.normal(0,0.1)\n",
        "    alpha = targetdist(anew) / targetdist(a0)\n",
        "    u=np.random.uniform(0,1)\n",
        "\n",
        "    if alpha>=u:\n",
        "      #print(\"value accepted\")\n",
        "      t=t+1\n",
        "      if t>=burnout_time:\n",
        "        nchain.append(t)\n",
        "        achain.append(anew)\n",
        "        posteriorchain.append(targetdist(anew))\n",
        "      a0=anew\n",
        "\n",
        "  nchain_list.append(nchain)\n",
        "  achain_list.append(achain)\n",
        "  posteriorchain_list.append(posteriorchain)\n",
        "\n"
      ]
    },
    {
      "cell_type": "code",
      "execution_count": null,
      "metadata": {
        "collapsed": true,
        "id": "el76uI06lbOc"
      },
      "outputs": [],
      "source": [
        "import matplotlib.pyplot as plt\n",
        "from matplotlib.pyplot import figure\n",
        "%matplotlib inline\n",
        "import numpy as np\n",
        "figure(figsize=(30, 12), dpi=200)\n",
        "merge=[]\n",
        "\n",
        "plt.figure()\n",
        "for i in range(0,walker):\n",
        "  n=nchain_list[i]\n",
        "  a=achain_list[i]\n",
        "  merge.extend(a)\n",
        "  plt.plot(n,a)\n",
        "\n",
        "plt.savefig(\"multi_chain.png\",dpi=800)\n",
        "\n",
        "plt.show()"
      ]
    },
    {
      "cell_type": "code",
      "execution_count": null,
      "metadata": {
        "id": "iXX9KpKLlouq"
      },
      "outputs": [],
      "source": [
        "from google.colab import files\n",
        "files.download(\"multi_chain.png\")"
      ]
    },
    {
      "cell_type": "code",
      "execution_count": null,
      "metadata": {
        "collapsed": true,
        "id": "1M-T8_2qmJM3"
      },
      "outputs": [],
      "source": [
        "import numpy as np\n",
        "from scipy.stats import norm\n",
        "import matplotlib.pyplot as plt\n",
        "\n",
        "# Generate some data for this\n",
        "# demonstration.\n",
        "data = merge\n",
        "\n",
        "# Fit a normal distribution to\n",
        "# the data:\n",
        "# mean and standard deviation\n",
        "mu, std = np.mean(data),np.std(data)\n",
        "\n",
        "# Plot the histogram.\n",
        "plt.hist(data, bins=55, density=True, alpha=0.6, color='b')\n",
        "\n",
        "# Plot the PDF.\n",
        "xmin, xmax = plt.xlim()\n",
        "x = np.linspace(xmin, xmax, 100)\n",
        "p = norm.pdf(x, mu, std)\n",
        "\n",
        "plt.plot(x, p, 'k', linewidth=2)\n",
        "title = \"Fit Values:  {:.3f} $\\pm$ {:.3f}\".format(mu, std)\n",
        "plt.title(title)\n",
        "\n",
        "plt.show()"
      ]
    },
    {
      "cell_type": "code",
      "execution_count": null,
      "metadata": {
        "id": "gC7_miwHmRbq"
      },
      "outputs": [],
      "source": [
        "cc=np.array([merge])\n",
        "bb=cc.transpose()\n",
        "fig = corner.corner(bb,bins=50,labels=[\"$x$\"],color=\"red\",quantiles=[0.16, 0.5, 0.84],show_titles=True,divergences=True)\n",
        "\n",
        "plt.savefig(\"toy_model2.png\",dpi=800)\n",
        "plt.show()"
      ]
    },
    {
      "cell_type": "code",
      "execution_count": null,
      "metadata": {
        "id": "8AObK-EUnC9h"
      },
      "outputs": [],
      "source": [
        "import numpy as np\n",
        "import pandas as pd\n",
        "import plotly.figure_factory as ff\n",
        "import plotly.express as px\n",
        "from ipywidgets import VBox, HBox, Output, Button, IntText, Label, FloatText\n",
        "\n",
        "import matplotlib.pyplot as plt\n",
        "from matplotlib.transforms import Affine2D\n",
        "from matplotlib.collections import PathCollection\n",
        "import matplotlib.animation as animation"
      ]
    },
    {
      "cell_type": "code",
      "execution_count": null,
      "metadata": {
        "id": "ClhIv1jUnFkA"
      },
      "outputs": [],
      "source": [
        "def targetdist(x,y):\n",
        "        probX = np.exp(-x**2) * (4 + np.sin(x*5)) + np.exp(-y**2) * (4+np.sin(y*2))\n",
        "        return probX\n",
        "p = np.arange(-3,3, 0.01)\n",
        "q = np.arange(-3,3, 0.01)\n"
      ]
    },
    {
      "cell_type": "code",
      "execution_count": null,
      "metadata": {
        "collapsed": true,
        "id": "16Sgi1fjnKA0"
      },
      "outputs": [],
      "source": [
        "r = targetdist(p,q)\n",
        "plt.plot(p,targetdist(p,2),color='red',label= 'along x dimension')\n",
        "plt.plot(q,targetdist(2,q),color='green',label= 'along y dimension')\n",
        "plt.legend(loc=\"upper left\",prop={'size': 12})\n",
        "plt.tight_layout()\n",
        "#px.line(x=x,y=targetdist(p,2))\n",
        "#px.line(x=x,y=targetdist(2,q))"
      ]
    },
    {
      "cell_type": "code",
      "execution_count": null,
      "metadata": {
        "collapsed": true,
        "id": "d_zygftcnoI6"
      },
      "outputs": [],
      "source": [
        "import plotly.graph_objects as go\n",
        "\n",
        "import pandas as pd\n",
        "\n",
        "a = np.linspace(-6, 6, 1000)\n",
        "b = np.linspace(-5, 5, 1000)\n",
        "\n",
        "X, Y = np.meshgrid(a, b)\n",
        "Z = targetdist(X,Y)\n",
        "z_data = pd.DataFrame(Z)\n",
        "\n",
        "\n",
        "fig = go.Figure(data=[go.Surface(z=z_data.values,x=a,y=b)])\n",
        "fig.update_traces(contours_z=dict(show=True, usecolormap=True,\n",
        "                                  highlightcolor=\"limegreen\", project_z=True))\n",
        "fig.update_layout(title='Log Posterior', autosize=False,\n",
        "                  scene_camera_eye=dict(x=1.87, y=0.88, z=-0.64),\n",
        "                  width=500, height=500,\n",
        "                  margin=dict(l=65, r=50, b=65, t=90)\n",
        ")\n",
        "\n",
        "fig.show()"
      ]
    },
    {
      "cell_type": "code",
      "execution_count": null,
      "metadata": {
        "id": "YUZwkmaWoXqx"
      },
      "outputs": [],
      "source": [
        "import numpy as np\n",
        "\n",
        "# Define the 2D target distribution function for this cell's scope\n",
        "def targetdist(x,y):\n",
        "\n",
        "        prob = (np.exp(-x**2) * (4 + np.sin(x*5))) * (np.exp(-y**2) * (4+np.sin(y*2) - 4*np.cos(3*y)))\n",
        "        return prob\n",
        "nchain=[]\n",
        "achain=[]\n",
        "bchain=[]\n",
        "posteriorchain=[]\n",
        "a0=-5\n",
        "b0=-2                                 # initial value\n",
        "s=50000                                 # no of steps\n",
        "burnout_time= 1000                       # Burnout_time\n",
        "t=0\n",
        "\n",
        "for i in range(1,s):\n",
        "  anew= a0+np.random.normal(0,0.1)\n",
        "  bnew= b0+np.random.normal(0,0.5)\n",
        "  alpha = targetdist(anew,bnew) / targetdist(a0,b0)\n",
        "  u=np.random.uniform(0,1)\n",
        "\n",
        "  if alpha>=u:\n",
        "    #print(\"value accepted\")\n",
        "    t=t+1\n",
        "    if t>=burnout_time:\n",
        "      nchain.append(t)\n",
        "      achain.append(anew)\n",
        "      bchain.append(bnew)\n",
        "      posteriorchain.append(targetdist(anew,bnew))\n",
        "    a0=anew\n",
        "    b0=bnew\n",
        "  #else:\n",
        "    #a0=a0 # This line is no longer needed as a0 is only updated on acceptance\n",
        "\n",
        "  #print(\"...............................\")"
      ]
    },
    {
      "cell_type": "code",
      "execution_count": null,
      "metadata": {
        "id": "0lsidUrWKQL4"
      },
      "outputs": [],
      "source": [
        "import numpy as np\n",
        "\n",
        "# Define the 2D target distribution function for this cell's scope\n",
        "def targetdist(x,y):\n",
        "\n",
        "        prob = (np.exp(-x**2) * (4 + np.sin(x*5))) * (np.exp(-y**2) * (4+np.sin(y*2) - 4*np.cos(3*y)))\n",
        "        return prob\n",
        "nchain=[]\n",
        "achain=[]\n",
        "bchain=[]\n",
        "posteriorchain=[]\n",
        "a0=-5\n",
        "b0=-2                                 # initial value\n",
        "s=50000                                 # no of steps\n",
        "burnout_time= 1000                       # Burnout_time\n",
        "t=0\n",
        "\n",
        "for i in range(1,s):\n",
        "  anew= a0+np.random.normal(0,0.1)\n",
        "  bnew= b0+np.random.normal(0,0.5)\n",
        "  alpha = targetdist(anew,bnew) / targetdist(a0,b0)\n",
        "  u=np.random.uniform(0,1)\n",
        "\n",
        "  if alpha>=u:\n",
        "    #print(\"value accepted\")\n",
        "    t=t+1\n",
        "    if t>=burnout_time:\n",
        "      nchain.append(t)\n",
        "      achain.append(anew)\n",
        "      bchain.append(bnew)\n",
        "      posteriorchain.append(targetdist(anew,bnew))\n",
        "    a0=anew\n",
        "    b0=bnew\n",
        "  #else:\n",
        "    #a0=a0 # This line is no longer needed as a0 is only updated on acceptance\n",
        "\n",
        "  #print(\"...............................\")"
      ]
    },
    {
      "cell_type": "code",
      "execution_count": null,
      "metadata": {
        "collapsed": true,
        "id": "q2gvA1YuodTk"
      },
      "outputs": [],
      "source": [
        "plt.plot(nchain,achain)"
      ]
    },
    {
      "cell_type": "code",
      "execution_count": null,
      "metadata": {
        "collapsed": true,
        "id": "Y0ApE3rwo97W"
      },
      "outputs": [],
      "source": [
        "plt.plot(nchain,bchain)\n"
      ]
    },
    {
      "cell_type": "code",
      "execution_count": null,
      "metadata": {
        "collapsed": true,
        "id": "zsAHRBW8pscf"
      },
      "outputs": [],
      "source": [
        "def targetdist(x):\n",
        "        probX = np.exp(-x**2) * (2 + np.sin(x*5) + np.sin(x*2))\n",
        "        return probX\n",
        "x = np.arange(-5,5, 0.01)\n",
        "y = targetdist(x)\n",
        "plt.plot(x,y)\n",
        "\n",
        "for i in range(0,550):\n",
        "  plt.scatter(achain[i],posteriorchain[i],color='red')\n",
        "\n",
        "plt.xlim(-5,5)"
      ]
    },
    {
      "cell_type": "code",
      "execution_count": null,
      "metadata": {
        "collapsed": true,
        "id": "IQEuIXVzp8cG"
      },
      "outputs": [],
      "source": [
        "plt.hist(achain, bins=40, density=True, alpha=0.6, color='b')\n",
        "plt.xlabel('x',fontsize=18)"
      ]
    },
    {
      "cell_type": "code",
      "execution_count": null,
      "metadata": {
        "id": "-u7yhTPTqJjp"
      },
      "outputs": [],
      "source": [
        "plt.hist(bchain, bins=40, density=True, alpha=0.6, color='b')\n",
        "plt.xlabel('y',fontsize=18)"
      ]
    },
    {
      "cell_type": "code",
      "execution_count": null,
      "metadata": {
        "id": "9HyhdaPQqPMq",
        "collapsed": true
      },
      "outputs": [],
      "source": [
        "import numpy as np\n",
        "from scipy.stats import norm\n",
        "import matplotlib.pyplot as plt\n",
        "\n",
        "# Generate some data for this\n",
        "# demonstration.\n",
        "data = achain\n",
        "\n",
        "# Fit a normal distribution to\n",
        "# the data:\n",
        "# mean and standard deviation\n",
        "#mu, std = norm.fit(data)\n",
        "\n",
        "am=np.mean(data)\n",
        "sm=np.std(data)\n",
        "\n",
        "# Plot the histogram.\n",
        "plt.hist(data, bins=50, density=True, alpha=0.6, color='b')\n",
        "\n",
        "# Plot the PDF.\n",
        "xmin, xmax = plt.xlim()\n",
        "x = np.linspace(xmin, xmax, 100)\n",
        "p = norm.pdf(x, am, sm)\n",
        "\n",
        "plt.plot(x, p, 'k', linewidth=2)\n",
        "title = \"Fit Values:  {:.2f} $\\pm$ {:.2f}\".format(am, sm)\n",
        "plt.title(title)\n",
        "\n",
        "plt.show()"
      ]
    },
    {
      "cell_type": "code",
      "execution_count": null,
      "metadata": {
        "id": "HdOeoLbErwhj"
      },
      "outputs": [],
      "source": [
        "import corner"
      ]
    },
    {
      "cell_type": "code",
      "execution_count": null,
      "metadata": {
        "id": "7mz-kVXGryDE",
        "collapsed": true
      },
      "outputs": [],
      "source": [
        "cc=np.array([achain,bchain])\n",
        "bb=cc.transpose()\n",
        "fig = corner.corner(bb,bins=50,labels=[\"$x$\",\"$y$\"],\n",
        "                    color=\"red\",\n",
        "                    quantiles=[0.16, 0.5, 0.84],\n",
        "                    plot_contours=True,\n",
        "                    fill_contours=True,\n",
        "                    levels=(0.68,0.95,0.99,),\n",
        "                    plot_datapoints=True,\n",
        "                    smooth=True, smooth1d=True,\n",
        "                    title_fmt=\".2g\",\n",
        "                    show_titles=True,\n",
        "                    divergences=True)\n",
        "\n",
        "plt.savefig(\"toy_model2.png\",dpi=200)\n",
        "plt.show()"
      ]
    },
    {
      "cell_type": "code",
      "execution_count": null,
      "metadata": {
        "id": "37VaraGlsGXW"
      },
      "outputs": [],
      "source": [
        "import numpy as np\n",
        "\n",
        "# Define the 2D target distribution function again for this cell's scope\n",
        "def targetdist(x,y):\n",
        "        probX = np.exp(-x**2) * (4 + np.sin(x*5)) + np.exp(-y**2) * (4+np.sin(y*2))\n",
        "        return probX\n",
        "\n",
        "walker= 10\n",
        "nchain_list = []\n",
        "achain_list = []\n",
        "bchain_list=[]\n",
        "posteriorchain_list=[]\n",
        "\n",
        "\n",
        "\n",
        "\n",
        "for i in range(0,walker):\n",
        "  t=0\n",
        "  a0=np.random.uniform(-2,2)\n",
        "  b0=np.random.uniform(-2,2)\n",
        "  steps=2000\n",
        "  burnout_time= 1000\n",
        "  nchain=[]\n",
        "  achain=[]\n",
        "  bchain=[]\n",
        "  posteriorchain=[]\n",
        "\n",
        "\n",
        "  for j in range(0,steps):\n",
        "    anew= a0+np.random.normal(0,0.1)\n",
        "    bnew= b0+np.random.normal(0,0.1)\n",
        "    alpha = targetdist(anew,bnew) / targetdist(a0,b0)\n",
        "    u=np.random.uniform(0,1)\n",
        "\n",
        "    if alpha>=u:\n",
        "      #print(\"value accepted\")\n",
        "      t=t+1\n",
        "      if t>=burnout_time:\n",
        "        nchain.append(t)\n",
        "        achain.append(anew)\n",
        "        bchain.append(bnew)\n",
        "        posteriorchain.append(targetdist(anew,bnew))\n",
        "      a0=anew\n",
        "      b0=bnew\n",
        "\n",
        "  nchain_list.append(nchain)\n",
        "  achain_list.append(achain)\n",
        "  bchain_list.append(bchain)\n",
        "  posteriorchain_list.append(posteriorchain)"
      ]
    },
    {
      "cell_type": "code",
      "execution_count": null,
      "metadata": {
        "collapsed": true,
        "id": "3v2cGTNIsc4H"
      },
      "outputs": [],
      "source": [
        "import matplotlib.pyplot as plt\n",
        "from matplotlib.pyplot import figure\n",
        "%matplotlib inline\n",
        "import numpy as np\n",
        "figure(figsize=(30, 12), dpi=200)\n",
        "mergea=[]\n",
        "mergeb=[]\n",
        "\n",
        "plt.figure()\n",
        "\n",
        "for i in range(0,walker):\n",
        "  n=nchain_list[i]\n",
        "  a=achain_list[i]\n",
        "  mergea.extend(a)\n",
        "  plt.plot(n,a)\n",
        "\n",
        "plt.show()\n"
      ]
    },
    {
      "cell_type": "code",
      "execution_count": null,
      "metadata": {
        "id": "vQhzmBTwstFC",
        "collapsed": true
      },
      "outputs": [],
      "source": [
        "for i in range(0,walker):\n",
        "  n=nchain_list[i]\n",
        "  b=bchain_list[i]\n",
        "  mergeb.extend(b)\n",
        "  plt.plot(n,b)\n",
        "\n",
        "plt.show()"
      ]
    },
    {
      "cell_type": "code",
      "execution_count": null,
      "metadata": {
        "collapsed": true,
        "id": "92zWgP_ns0_o"
      },
      "outputs": [],
      "source": [
        "mergeb"
      ]
    },
    {
      "cell_type": "code",
      "execution_count": null,
      "metadata": {
        "colab": {
          "base_uri": "https://localhost:8080/"
        },
        "id": "OiXrsEhMs_N5",
        "outputId": "bbe1cf42-8d66-464c-b3c6-f668eec51200"
      },
      "outputs": [
        {
          "name": "stdout",
          "output_type": "stream",
          "text": [
            "[[-0.55502522 -0.42614827 -0.43930525 ...  1.27184797  1.256381\n",
            "   1.23999806]\n",
            " [ 2.89582299  2.84117965  2.81029617 ...  1.34659886  1.33903148\n",
            "   1.27466934]]\n"
          ]
        }
      ],
      "source": [
        "cc=np.array([mergea,mergeb])\n",
        "print(cc)"
      ]
    },
    {
      "cell_type": "code",
      "execution_count": null,
      "metadata": {
        "colab": {
          "base_uri": "https://localhost:8080/"
        },
        "id": "AgFTP26atA9-",
        "outputId": "27993e3d-855d-4076-fd7e-0c74f386681e"
      },
      "outputs": [
        {
          "name": "stdout",
          "output_type": "stream",
          "text": [
            "[[-0.55502522  2.89582299]\n",
            " [-0.42614827  2.84117965]\n",
            " [-0.43930525  2.81029617]\n",
            " ...\n",
            " [ 1.27184797  1.34659886]\n",
            " [ 1.256381    1.33903148]\n",
            " [ 1.23999806  1.27466934]]\n"
          ]
        }
      ],
      "source": [
        "bb=cc.transpose()\n",
        "print(bb)"
      ]
    },
    {
      "cell_type": "code",
      "execution_count": null,
      "metadata": {
        "id": "oTojuBVntGjB",
        "collapsed": true
      },
      "outputs": [],
      "source": [
        "cc=np.array([mergea,mergeb])\n",
        "bb=cc.transpose()\n",
        "fig = corner.corner(bb,bins=50,labels=[\"$x$\",\"$y$\"],\n",
        "                    color=\"red\",\n",
        "                    quantiles=[0.16, 0.5, 0.84],\n",
        "                    plot_contours=True,\n",
        "                    fill_contours=True,\n",
        "                    levels=(0.68,0.95,0.99,),\n",
        "                    plot_datapoints=True,\n",
        "                    smooth=True, smooth1d=True,\n",
        "                    title_fmt=\".2g\",\n",
        "                    show_titles=True,\n",
        "                    divergences=True)\n",
        "\n",
        "plt.savefig(\"toy_model2.png\",dpi=200)\n",
        "plt.show()"
      ]
    },
    {
      "cell_type": "code",
      "execution_count": null,
      "metadata": {
        "id": "fIihwUVxvp9A",
        "collapsed": true
      },
      "outputs": [],
      "source": [
        "# Install plotly if not already installed\n",
        "!pip install plotly\n",
        "\n",
        "import numpy as np\n",
        "import plotly.graph_objects as go\n",
        "\n",
        "# Define the log of the unnormalized probability\n",
        "def log_prob(x, y, z):\n",
        "    part1 = np.exp(-x**2) * (4 + np.sin(5 * x))\n",
        "    part2 = np.exp(-y**2) * (4 + np.sin(2 * y) - 4 * np.cos(3 * y))\n",
        "    part3 = np.exp(-z**2) * (4 + np.sin(z) - 4 * np.cos(5 * z))\n",
        "    return np.log(part1 + part2 + part3 + 1e-10)\n",
        "\n",
        "# MCMC sampler\n",
        "def mcmc_3d(n_samples=100000, step_size=0.5):\n",
        "    samples = []\n",
        "    x, y, z = 0.0, 0.0, 0.0\n",
        "    for _ in range(n_samples):\n",
        "        x_new = x + np.random.normal(0, step_size)\n",
        "        y_new = y + np.random.normal(0, step_size)\n",
        "        z_new = z + np.random.normal(0, step_size)\n",
        "        lp_old = log_prob(x, y, z)\n",
        "        lp_new = log_prob(x_new, y_new, z_new)\n",
        "        accept_prob = min(1, np.exp(lp_new - lp_old))\n",
        "        if np.random.rand() < accept_prob:\n",
        "            x, y, z = x_new, y_new, z_new\n",
        "        samples.append([x, y, z])\n",
        "    return np.array(samples)\n",
        "\n",
        "# Run MCMC\n",
        "samples = mcmc_3d(5000)[1000:]  # Discard burn-in\n",
        "\n",
        "# Plot with vibrant color\n",
        "colors = np.linspace(0, 1, len(samples))\n",
        "fig = go.Figure(data=[go.Scatter3d(\n",
        "    x=samples[:, 0], y=samples[:, 1], z=samples[:, 2],\n",
        "    mode='markers',\n",
        "    marker=dict(\n",
        "        size=2,\n",
        "        color=colors,\n",
        "        colorscale='Plasma',\n",
        "        opacity=0.7\n",
        "    )\n",
        ")])\n",
        "\n",
        "fig.update_layout(\n",
        "    title=\"MCMC 3D Sample Distribution (Colorful Surface)\",\n",
        "    scene=dict(xaxis_title='x', yaxis_title='y', zaxis_title='z'),\n",
        "    width=800, height=700\n",
        ")\n",
        "\n",
        "fig.show()\n"
      ]
    },
    {
      "cell_type": "code",
      "execution_count": null,
      "metadata": {
        "id": "50X13FzXugqi",
        "collapsed": true
      },
      "outputs": [],
      "source": [
        "import corner\n",
        "\n",
        "# Convert to numpy array if not already\n",
        "samples = np.array(samples)\n",
        "\n",
        "# Optional: Remove burn-in (first 1000 samples)\n",
        "burned_samples = samples[1000:]\n",
        "\n",
        "# Plot the corner plot\n",
        "fig = corner.corner(\n",
        "    burned_samples,\n",
        "    labels=[\"x\", \"y\", \"z\"],\n",
        "    show_titles=True,\n",
        "    title_fmt=\".3f\",\n",
        "    color='blue',\n",
        "    plot_contours=True,\n",
        "    plot_datapoints=True\n",
        ")\n",
        "plt.show()\n"
      ]
    }
  ],
  "metadata": {
    "colab": {
      "provenance": [],
      "authorship_tag": "ABX9TyMMcIISoeoHjxJKh1Gb1bbU",
      "include_colab_link": true
    },
    "kernelspec": {
      "display_name": "Python 3",
      "name": "python3"
    },
    "language_info": {
      "name": "python"
    }
  },
  "nbformat": 4,
  "nbformat_minor": 0
}